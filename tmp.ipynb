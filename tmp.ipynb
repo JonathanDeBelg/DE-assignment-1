{
 "cells": [
  {
   "cell_type": "code",
   "execution_count": null,
   "metadata": {},
   "outputs": [],
   "source": [
    "df = load_iris(return_X_y=True, as_frame=True)\n",
    "\n",
    "x_train, x_test, y_train, y_test = train_test_split(df.drop('class',axis=1), \n",
    "                                                df['class'], test_size=0.30, \n",
    "                                                random_state=101)\n",
    "\n",
    "x_train"
   ]
  }
 ],
 "metadata": {
  "language_info": {
   "name": "python"
  },
  "orig_nbformat": 4
 },
 "nbformat": 4,
 "nbformat_minor": 2
}
